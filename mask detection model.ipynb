{
 "cells": [
  {
   "cell_type": "code",
   "execution_count": 123,
   "metadata": {},
   "outputs": [],
   "source": [
    "import tensorflow as tf\n",
    "from keras.preprocessing.image import ImageDataGenerator"
   ]
  },
  {
   "cell_type": "code",
   "execution_count": 51,
   "metadata": {},
   "outputs": [
    {
     "name": "stdout",
     "output_type": "stream",
     "text": [
      "Requirement already satisfied: split_folders in /Users/siddharthgehlot/opt/anaconda3/lib/python3.8/site-packages (0.4.3)\n",
      "Note: you may need to restart the kernel to use updated packages.\n"
     ]
    }
   ],
   "source": [
    "pip install split_folders"
   ]
  },
  {
   "cell_type": "code",
   "execution_count": 52,
   "metadata": {},
   "outputs": [
    {
     "name": "stderr",
     "output_type": "stream",
     "text": [
      "Copying files: 8982 files [00:03, 2837.80 files/s]\n"
     ]
    }
   ],
   "source": [
    "import splitfolders\n",
    "splitfolders.ratio('Dataset',output=\"output\", seed=1337, ratio=(.8, 0.1,0.1))"
   ]
  },
  {
   "cell_type": "code",
   "execution_count": null,
   "metadata": {},
   "outputs": [],
   "source": []
  },
  {
   "cell_type": "code",
   "execution_count": 164,
   "metadata": {},
   "outputs": [],
   "source": [
    "ImageDataGen_train = ImageDataGenerator(rescale =1./255,\n",
    "                                 shear_range = 0.2,\n",
    "                                 zoom_range = 0.2,\n",
    "                                 horizontal_flip = True)"
   ]
  },
  {
   "cell_type": "code",
   "execution_count": 165,
   "metadata": {},
   "outputs": [],
   "source": [
    "ImageDataGen_val = ImageDataGenerator(rescale = 1./255)"
   ]
  },
  {
   "cell_type": "code",
   "execution_count": 166,
   "metadata": {},
   "outputs": [
    {
     "name": "stdout",
     "output_type": "stream",
     "text": [
      "Found 7185 images belonging to 3 classes.\n"
     ]
    }
   ],
   "source": [
    "dataset_train = ImageDataGen_train.flow_from_directory('output/train',\n",
    "                                                  target_size=(64,64),\n",
    "                                                  batch_size = 32,\n",
    "                                                  class_mode = 'categorical')"
   ]
  },
  {
   "cell_type": "code",
   "execution_count": 167,
   "metadata": {},
   "outputs": [
    {
     "name": "stdout",
     "output_type": "stream",
     "text": [
      "Found 897 images belonging to 3 classes.\n"
     ]
    }
   ],
   "source": [
    "dataset_val = ImageDataGen_val.flow_from_directory('output/val',\n",
    "                                                    target_size = (64,64),\n",
    "                                                    batch_size=32,\n",
    "                                                    class_mode = 'categorical')"
   ]
  },
  {
   "cell_type": "code",
   "execution_count": 168,
   "metadata": {},
   "outputs": [
    {
     "data": {
      "text/plain": [
       "{'mask_weared_incorrect': 0, 'with_mask': 1, 'without_mask': 2}"
      ]
     },
     "execution_count": 168,
     "metadata": {},
     "output_type": "execute_result"
    }
   ],
   "source": [
    "dataset_train.class_indices\n"
   ]
  },
  {
   "cell_type": "code",
   "execution_count": 169,
   "metadata": {},
   "outputs": [],
   "source": [
    "#start creating the convolution neural network"
   ]
  },
  {
   "cell_type": "code",
   "execution_count": 170,
   "metadata": {},
   "outputs": [],
   "source": [
    "cnn = tf.keras.models.Sequential()"
   ]
  },
  {
   "cell_type": "code",
   "execution_count": 171,
   "metadata": {},
   "outputs": [],
   "source": [
    "# add convlution layer to the model"
   ]
  },
  {
   "cell_type": "code",
   "execution_count": 172,
   "metadata": {},
   "outputs": [],
   "source": [
    "cnn.add(tf.keras.layers.Conv2D(filters = 32, kernel_size = 3, activation = 'relu', kernel_regularizer=None,\n",
    "    bias_regularizer=None,input_shape =[64,64,3] ))"
   ]
  },
  {
   "cell_type": "code",
   "execution_count": 173,
   "metadata": {},
   "outputs": [],
   "source": [
    "# add max pooling layer to the model"
   ]
  },
  {
   "cell_type": "code",
   "execution_count": 174,
   "metadata": {},
   "outputs": [],
   "source": [
    "cnn.add(tf.keras.layers.MaxPool2D(pool_size=2, strides =2))"
   ]
  },
  {
   "cell_type": "code",
   "execution_count": 175,
   "metadata": {},
   "outputs": [],
   "source": [
    "# add second convoultion layer"
   ]
  },
  {
   "cell_type": "code",
   "execution_count": 176,
   "metadata": {},
   "outputs": [],
   "source": [
    "cnn.add(tf.keras.layers.Conv2D(filters=32, kernel_size=3, kernel_regularizer=None,\n",
    "    bias_regularizer=None,activation='relu'))"
   ]
  },
  {
   "cell_type": "code",
   "execution_count": 177,
   "metadata": {},
   "outputs": [],
   "source": [
    "# add second max pooling layer"
   ]
  },
  {
   "cell_type": "code",
   "execution_count": 178,
   "metadata": {},
   "outputs": [],
   "source": [
    "cnn.add(tf.keras.layers.MaxPool2D(pool_size = 2, strides =2))"
   ]
  },
  {
   "cell_type": "code",
   "execution_count": 179,
   "metadata": {},
   "outputs": [],
   "source": [
    "# add flattening layer"
   ]
  },
  {
   "cell_type": "code",
   "execution_count": 180,
   "metadata": {},
   "outputs": [],
   "source": [
    "cnn.add(tf.keras.layers.Flatten())"
   ]
  },
  {
   "cell_type": "code",
   "execution_count": 181,
   "metadata": {},
   "outputs": [],
   "source": [
    "# add full connections"
   ]
  },
  {
   "cell_type": "code",
   "execution_count": 182,
   "metadata": {},
   "outputs": [],
   "source": [
    "#input of full connection"
   ]
  },
  {
   "cell_type": "code",
   "execution_count": 183,
   "metadata": {},
   "outputs": [],
   "source": [
    "cnn.add(tf.keras.layers.Dense(units =128, activation = 'relu'))\n",
    "cnn.add(tf.keras.layers.Dense(units =1 , activation = 'sigmoid'))"
   ]
  },
  {
   "cell_type": "code",
   "execution_count": 184,
   "metadata": {},
   "outputs": [],
   "source": [
    "cnn.compile(optimizer = 'adam', loss = 'mean_absolute_error', metrics = ['accuracy'])"
   ]
  },
  {
   "cell_type": "code",
   "execution_count": 185,
   "metadata": {},
   "outputs": [
    {
     "name": "stdout",
     "output_type": "stream",
     "text": [
      "Epoch 1/25\n",
      "225/225 [==============================] - 19s 83ms/step - loss: 0.4862 - accuracy: 0.5378 - val_loss: 0.4017 - val_accuracy: 0.6154\n",
      "Epoch 2/25\n",
      "225/225 [==============================] - 18s 80ms/step - loss: 0.4159 - accuracy: 0.6050 - val_loss: 0.3912 - val_accuracy: 0.6187\n",
      "Epoch 3/25\n",
      "225/225 [==============================] - 19s 83ms/step - loss: 0.4036 - accuracy: 0.6116 - val_loss: 0.3916 - val_accuracy: 0.6076\n",
      "Epoch 4/25\n",
      "225/225 [==============================] - 18s 80ms/step - loss: 0.3926 - accuracy: 0.6246 - val_loss: 0.3858 - val_accuracy: 0.6310\n",
      "Epoch 5/25\n",
      "225/225 [==============================] - 18s 82ms/step - loss: 0.3968 - accuracy: 0.6174 - val_loss: 0.3773 - val_accuracy: 0.6377\n",
      "Epoch 6/25\n",
      "225/225 [==============================] - 19s 85ms/step - loss: 0.3942 - accuracy: 0.6220 - val_loss: 0.3687 - val_accuracy: 0.6433\n",
      "Epoch 7/25\n",
      "225/225 [==============================] - 19s 84ms/step - loss: 0.3884 - accuracy: 0.6245 - val_loss: 0.3698 - val_accuracy: 0.6455\n",
      "Epoch 8/25\n",
      "225/225 [==============================] - 19s 83ms/step - loss: 0.3804 - accuracy: 0.6313 - val_loss: 0.3609 - val_accuracy: 0.6444\n",
      "Epoch 9/25\n",
      "225/225 [==============================] - 18s 82ms/step - loss: 0.3844 - accuracy: 0.6287 - val_loss: 0.3712 - val_accuracy: 0.6332\n",
      "Epoch 10/25\n",
      "225/225 [==============================] - 19s 83ms/step - loss: 0.3789 - accuracy: 0.6335 - val_loss: 0.3780 - val_accuracy: 0.6388\n",
      "Epoch 11/25\n",
      "225/225 [==============================] - 18s 82ms/step - loss: 0.3787 - accuracy: 0.6354 - val_loss: 0.3624 - val_accuracy: 0.6410\n",
      "Epoch 12/25\n",
      "225/225 [==============================] - 19s 82ms/step - loss: 0.3721 - accuracy: 0.6362 - val_loss: 0.3630 - val_accuracy: 0.6388\n",
      "Epoch 13/25\n",
      "225/225 [==============================] - 19s 82ms/step - loss: 0.3683 - accuracy: 0.6391 - val_loss: 0.3621 - val_accuracy: 0.6477\n",
      "Epoch 14/25\n",
      "225/225 [==============================] - 18s 82ms/step - loss: 0.3712 - accuracy: 0.6367 - val_loss: 0.3655 - val_accuracy: 0.6388\n",
      "Epoch 15/25\n",
      "225/225 [==============================] - 19s 84ms/step - loss: 0.3693 - accuracy: 0.6394 - val_loss: 0.3635 - val_accuracy: 0.6410\n",
      "Epoch 16/25\n",
      "225/225 [==============================] - 19s 83ms/step - loss: 0.3612 - accuracy: 0.6458 - val_loss: 0.3508 - val_accuracy: 0.6511\n",
      "Epoch 17/25\n",
      "225/225 [==============================] - 18s 81ms/step - loss: 0.3628 - accuracy: 0.6427 - val_loss: 0.3500 - val_accuracy: 0.6511\n",
      "Epoch 18/25\n",
      "225/225 [==============================] - 18s 82ms/step - loss: 0.3592 - accuracy: 0.6469 - val_loss: 0.3606 - val_accuracy: 0.6388\n",
      "Epoch 19/25\n",
      "225/225 [==============================] - 18s 82ms/step - loss: 0.3582 - accuracy: 0.6476 - val_loss: 0.3446 - val_accuracy: 0.6566\n",
      "Epoch 20/25\n",
      "225/225 [==============================] - 19s 84ms/step - loss: 0.3540 - accuracy: 0.6507 - val_loss: 0.3521 - val_accuracy: 0.6488\n",
      "Epoch 21/25\n",
      "225/225 [==============================] - 19s 84ms/step - loss: 0.3564 - accuracy: 0.6502 - val_loss: 0.3529 - val_accuracy: 0.6544\n",
      "Epoch 22/25\n",
      "225/225 [==============================] - 19s 84ms/step - loss: 0.3527 - accuracy: 0.6527 - val_loss: 0.3501 - val_accuracy: 0.6488\n",
      "Epoch 23/25\n",
      "225/225 [==============================] - 19s 85ms/step - loss: 0.3530 - accuracy: 0.6521 - val_loss: 0.3405 - val_accuracy: 0.6611\n",
      "Epoch 24/25\n",
      "225/225 [==============================] - 19s 84ms/step - loss: 0.3527 - accuracy: 0.6523 - val_loss: 0.3477 - val_accuracy: 0.6533\n",
      "Epoch 25/25\n",
      "225/225 [==============================] - 19s 85ms/step - loss: 0.3497 - accuracy: 0.6536 - val_loss: 0.3479 - val_accuracy: 0.6533\n"
     ]
    },
    {
     "data": {
      "text/plain": [
       "<tensorflow.python.keras.callbacks.History at 0x7fafbb156340>"
      ]
     },
     "execution_count": 185,
     "metadata": {},
     "output_type": "execute_result"
    }
   ],
   "source": [
    "cnn.fit(x = dataset_train, validation_data = dataset_val, epochs = 25)"
   ]
  },
  {
   "cell_type": "code",
   "execution_count": 201,
   "metadata": {},
   "outputs": [
    {
     "name": "stdout",
     "output_type": "stream",
     "text": [
      "with_mask\n"
     ]
    }
   ],
   "source": [
    "import numpy as np\n",
    "from keras.preprocessing import image\n",
    "test_image = image.load_img('output/val/mask_weared_incorrect/11.png', target_size = (64, 64))\n",
    "test_image = image.img_to_array(test_image)\n",
    "test_image = np.expand_dims(test_image, axis = 0)\n",
    "result = cnn.predict(test_image)\n",
    "if result[0][0]==1: \n",
    "    print('with_mask')\n",
    "elif result[0][0]== 2:\n",
    "    print('without mask')\n",
    "else: \n",
    "    print('mask wear incorrect')"
   ]
  },
  {
   "cell_type": "code",
   "execution_count": 200,
   "metadata": {},
   "outputs": [
    {
     "data": {
      "text/plain": [
       "array([[1.]], dtype=float32)"
      ]
     },
     "execution_count": 200,
     "metadata": {},
     "output_type": "execute_result"
    }
   ],
   "source": [
    "result"
   ]
  },
  {
   "cell_type": "code",
   "execution_count": null,
   "metadata": {},
   "outputs": [],
   "source": []
  },
  {
   "cell_type": "code",
   "execution_count": null,
   "metadata": {},
   "outputs": [],
   "source": []
  }
 ],
 "metadata": {
  "kernelspec": {
   "display_name": "Python 3",
   "language": "python",
   "name": "python3"
  },
  "language_info": {
   "codemirror_mode": {
    "name": "ipython",
    "version": 3
   },
   "file_extension": ".py",
   "mimetype": "text/x-python",
   "name": "python",
   "nbconvert_exporter": "python",
   "pygments_lexer": "ipython3",
   "version": "3.8.3"
  }
 },
 "nbformat": 4,
 "nbformat_minor": 4
}
